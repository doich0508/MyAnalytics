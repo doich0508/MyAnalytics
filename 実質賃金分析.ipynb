{
 "cells": [
  {
   "cell_type": "code",
   "execution_count": 1,
   "id": "expressed-postcard",
   "metadata": {},
   "outputs": [],
   "source": [
    "# 必要なモジュールのインストール\n",
    "import pandas as pd\n",
    "import numpy as np\n",
    "import datetime\n",
    "import matplotlib\n",
    "from matplotlib import pylab as plt\n",
    "from sklearn import linear_model\n",
    "import statsmodels.api as sm\n",
    "from scipy import stats\n"
   ]
  },
  {
   "cell_type": "code",
   "execution_count": 2,
   "id": "threatened-madagascar",
   "metadata": {},
   "outputs": [
    {
     "data": {
      "text/html": [
       "<div>\n",
       "<style scoped>\n",
       "    .dataframe tbody tr th:only-of-type {\n",
       "        vertical-align: middle;\n",
       "    }\n",
       "\n",
       "    .dataframe tbody tr th {\n",
       "        vertical-align: top;\n",
       "    }\n",
       "\n",
       "    .dataframe thead th {\n",
       "        text-align: right;\n",
       "    }\n",
       "</style>\n",
       "<table border=\"1\" class=\"dataframe\">\n",
       "  <thead>\n",
       "    <tr style=\"text-align: right;\">\n",
       "      <th></th>\n",
       "      <th>時間軸（四半期）</th>\n",
       "      <th>国内総生産(支出側)</th>\n",
       "    </tr>\n",
       "  </thead>\n",
       "  <tbody>\n",
       "    <tr>\n",
       "      <th>0</th>\n",
       "      <td>1995年1～3月期</td>\n",
       "      <td>1.0</td>\n",
       "    </tr>\n",
       "    <tr>\n",
       "      <th>1</th>\n",
       "      <td>1995年4～6月期</td>\n",
       "      <td>2.2</td>\n",
       "    </tr>\n",
       "    <tr>\n",
       "      <th>2</th>\n",
       "      <td>1995年7～9月期</td>\n",
       "      <td>2.4</td>\n",
       "    </tr>\n",
       "    <tr>\n",
       "      <th>3</th>\n",
       "      <td>1995年10～12月期</td>\n",
       "      <td>3.1</td>\n",
       "    </tr>\n",
       "    <tr>\n",
       "      <th>4</th>\n",
       "      <td>1996年1～3月期</td>\n",
       "      <td>3.0</td>\n",
       "    </tr>\n",
       "  </tbody>\n",
       "</table>\n",
       "</div>"
      ],
      "text/plain": [
       "       時間軸（四半期）  国内総生産(支出側)\n",
       "0    1995年1～3月期         1.0\n",
       "1    1995年4～6月期         2.2\n",
       "2    1995年7～9月期         2.4\n",
       "3  1995年10～12月期         3.1\n",
       "4    1996年1～3月期         3.0"
      ]
     },
     "execution_count": 2,
     "metadata": {},
     "output_type": "execute_result"
    }
   ],
   "source": [
    "#Pandasを使って失業率のファイルを読み込み\n",
    "GDP_Diff = pd.read_csv(\"GDP四半期_前年同期比.csv\")\n",
    "GDP_Diff = GDP_Diff[['時間軸（四半期）', '国内総生産(支出側)']]\n",
    "GDP_Diff.head(5)"
   ]
  },
  {
   "cell_type": "code",
   "execution_count": 3,
   "id": "conventional-bosnia",
   "metadata": {},
   "outputs": [
    {
     "data": {
      "text/html": [
       "<div>\n",
       "<style scoped>\n",
       "    .dataframe tbody tr th:only-of-type {\n",
       "        vertical-align: middle;\n",
       "    }\n",
       "\n",
       "    .dataframe tbody tr th {\n",
       "        vertical-align: top;\n",
       "    }\n",
       "\n",
       "    .dataframe thead th {\n",
       "        text-align: right;\n",
       "    }\n",
       "</style>\n",
       "<table border=\"1\" class=\"dataframe\">\n",
       "  <thead>\n",
       "    <tr style=\"text-align: right;\">\n",
       "      <th></th>\n",
       "      <th>時間軸（四半期）</th>\n",
       "      <th>value</th>\n",
       "    </tr>\n",
       "  </thead>\n",
       "  <tbody>\n",
       "    <tr>\n",
       "      <th>39</th>\n",
       "      <td>1991年第１四半期</td>\n",
       "      <td>0.1</td>\n",
       "    </tr>\n",
       "    <tr>\n",
       "      <th>40</th>\n",
       "      <td>1992年第１四半期</td>\n",
       "      <td>1.9</td>\n",
       "    </tr>\n",
       "    <tr>\n",
       "      <th>41</th>\n",
       "      <td>1993年第１四半期</td>\n",
       "      <td>-0.6</td>\n",
       "    </tr>\n",
       "    <tr>\n",
       "      <th>42</th>\n",
       "      <td>1994年第１四半期</td>\n",
       "      <td>0.8</td>\n",
       "    </tr>\n",
       "    <tr>\n",
       "      <th>43</th>\n",
       "      <td>1995年第１四半期</td>\n",
       "      <td>2.0</td>\n",
       "    </tr>\n",
       "  </tbody>\n",
       "</table>\n",
       "</div>"
      ],
      "text/plain": [
       "      時間軸（四半期） value\n",
       "39  1991年第１四半期   0.1\n",
       "40  1992年第１四半期   1.9\n",
       "41  1993年第１四半期  -0.6\n",
       "42  1994年第１四半期   0.8\n",
       "43  1995年第１四半期   2.0"
      ]
     },
     "execution_count": 3,
     "metadata": {},
     "output_type": "execute_result"
    }
   ],
   "source": [
    "# 実質賃金の値を読み込み\n",
    "EfficiveRateAll = pd.read_csv('実質賃金_四半期別前年比.csv')\n",
    "\n",
    "# 調査月、調査年、値、就業形態のみ残す\n",
    "EfficiveRateAll = EfficiveRateAll[[\"調査月\",\"調査年\",\"value\"]]\n",
    "\n",
    "# valueが[-]のものは削除する\n",
    "EfficiveRateAll = EfficiveRateAll[EfficiveRateAll['value'] != '-']\n",
    "EfficiveRateAll[\"時間軸（四半期）\"] = EfficiveRateAll[\"調査年\"]+EfficiveRateAll[\"調査月\"]\n",
    "EfficiveRateAll= EfficiveRateAll[['時間軸（四半期）', 'value']]\n",
    "\n",
    "EfficiveRateAll.head()"
   ]
  },
  {
   "cell_type": "code",
   "execution_count": 4,
   "id": "collect-minute",
   "metadata": {},
   "outputs": [
    {
     "data": {
      "text/html": [
       "<div>\n",
       "<style scoped>\n",
       "    .dataframe tbody tr th:only-of-type {\n",
       "        vertical-align: middle;\n",
       "    }\n",
       "\n",
       "    .dataframe tbody tr th {\n",
       "        vertical-align: top;\n",
       "    }\n",
       "\n",
       "    .dataframe thead th {\n",
       "        text-align: right;\n",
       "    }\n",
       "</style>\n",
       "<table border=\"1\" class=\"dataframe\">\n",
       "  <thead>\n",
       "    <tr style=\"text-align: right;\">\n",
       "      <th></th>\n",
       "      <th>調査月</th>\n",
       "      <th>国内総生産(支出側)</th>\n",
       "    </tr>\n",
       "  </thead>\n",
       "  <tbody>\n",
       "    <tr>\n",
       "      <th>0</th>\n",
       "      <td>1995年第１四半期</td>\n",
       "      <td>1.0</td>\n",
       "    </tr>\n",
       "    <tr>\n",
       "      <th>1</th>\n",
       "      <td>1995年第２四半期</td>\n",
       "      <td>2.2</td>\n",
       "    </tr>\n",
       "    <tr>\n",
       "      <th>2</th>\n",
       "      <td>1995年第３四半期</td>\n",
       "      <td>2.4</td>\n",
       "    </tr>\n",
       "    <tr>\n",
       "      <th>3</th>\n",
       "      <td>1995年第４四半期</td>\n",
       "      <td>3.1</td>\n",
       "    </tr>\n",
       "    <tr>\n",
       "      <th>4</th>\n",
       "      <td>1996年第１四半期</td>\n",
       "      <td>3.0</td>\n",
       "    </tr>\n",
       "  </tbody>\n",
       "</table>\n",
       "</div>"
      ],
      "text/plain": [
       "          調査月  国内総生産(支出側)\n",
       "0  1995年第１四半期         1.0\n",
       "1  1995年第２四半期         2.2\n",
       "2  1995年第３四半期         2.4\n",
       "3  1995年第４四半期         3.1\n",
       "4  1996年第１四半期         3.0"
      ]
     },
     "execution_count": 4,
     "metadata": {},
     "output_type": "execute_result"
    }
   ],
   "source": [
    "# GDPの時間軸列を実質賃金に合わせる\n",
    "time_label = GDP_Diff['時間軸（四半期）']\n",
    "fix_time_label = []\n",
    "\n",
    "for i in time_label:\n",
    "    if not(i.find('1～3月期')==-1):\n",
    "        fix_time_label.append(i.replace('1～3月期', '第１四半期'))\n",
    "    elif not(i.find('4～6月期')==-1):\n",
    "        fix_time_label.append(i.replace('4～6月期', '第２四半期'))\n",
    "    elif not(i.find('7～9月期')==-1):\n",
    "        fix_time_label.append(i.replace('7～9月期', '第３四半期'))\n",
    "    else:\n",
    "        fix_time_label.append(i.replace('10～12月期', '第４四半期'))\n",
    "\n",
    "GDP_Diff['調査月'] = fix_time_label\n",
    "GDP_Diff = GDP_Diff[['調査月', '国内総生産(支出側)']]\n",
    "\n",
    "GDP_Diff.head()"
   ]
  },
  {
   "cell_type": "code",
   "execution_count": 5,
   "id": "spanish-murder",
   "metadata": {},
   "outputs": [
    {
     "data": {
      "text/html": [
       "<div>\n",
       "<style scoped>\n",
       "    .dataframe tbody tr th:only-of-type {\n",
       "        vertical-align: middle;\n",
       "    }\n",
       "\n",
       "    .dataframe tbody tr th {\n",
       "        vertical-align: top;\n",
       "    }\n",
       "\n",
       "    .dataframe thead th {\n",
       "        text-align: right;\n",
       "    }\n",
       "</style>\n",
       "<table border=\"1\" class=\"dataframe\">\n",
       "  <thead>\n",
       "    <tr style=\"text-align: right;\">\n",
       "      <th></th>\n",
       "      <th>調査月</th>\n",
       "      <th>国内総生産(支出側)</th>\n",
       "      <th>時間軸（四半期）</th>\n",
       "      <th>value</th>\n",
       "    </tr>\n",
       "  </thead>\n",
       "  <tbody>\n",
       "    <tr>\n",
       "      <th>0</th>\n",
       "      <td>1995年第１四半期</td>\n",
       "      <td>1.0</td>\n",
       "      <td>1995年第１四半期</td>\n",
       "      <td>2.0</td>\n",
       "    </tr>\n",
       "    <tr>\n",
       "      <th>1</th>\n",
       "      <td>1995年第２四半期</td>\n",
       "      <td>2.2</td>\n",
       "      <td>1995年第２四半期</td>\n",
       "      <td>0.2</td>\n",
       "    </tr>\n",
       "    <tr>\n",
       "      <th>2</th>\n",
       "      <td>1995年第３四半期</td>\n",
       "      <td>2.4</td>\n",
       "      <td>1995年第３四半期</td>\n",
       "      <td>2.0</td>\n",
       "    </tr>\n",
       "    <tr>\n",
       "      <th>3</th>\n",
       "      <td>1995年第４四半期</td>\n",
       "      <td>3.1</td>\n",
       "      <td>1995年第４四半期</td>\n",
       "      <td>1.5</td>\n",
       "    </tr>\n",
       "    <tr>\n",
       "      <th>4</th>\n",
       "      <td>1996年第１四半期</td>\n",
       "      <td>3.0</td>\n",
       "      <td>1996年第１四半期</td>\n",
       "      <td>1.6</td>\n",
       "    </tr>\n",
       "  </tbody>\n",
       "</table>\n",
       "</div>"
      ],
      "text/plain": [
       "          調査月  国内総生産(支出側)    時間軸（四半期） value\n",
       "0  1995年第１四半期         1.0  1995年第１四半期   2.0\n",
       "1  1995年第２四半期         2.2  1995年第２四半期   0.2\n",
       "2  1995年第３四半期         2.4  1995年第３四半期   2.0\n",
       "3  1995年第４四半期         3.1  1995年第４四半期   1.5\n",
       "4  1996年第１四半期         3.0  1996年第１四半期   1.6"
      ]
     },
     "execution_count": 5,
     "metadata": {},
     "output_type": "execute_result"
    }
   ],
   "source": [
    "# 二つのデータフレームを結合する\n",
    "Merge_Deta = pd.merge(GDP_Diff, EfficiveRateAll, left_on='調査月', right_on='時間軸（四半期）')\n",
    "Merge_Deta.head()\n"
   ]
  },
  {
   "cell_type": "code",
   "execution_count": 6,
   "id": "physical-institution",
   "metadata": {},
   "outputs": [
    {
     "name": "stdout",
     "output_type": "stream",
     "text": [
      "<class 'pandas.core.frame.DataFrame'>\n",
      "Int64Index: 83 entries, 0 to 82\n",
      "Data columns (total 4 columns):\n",
      " #   Column      Non-Null Count  Dtype  \n",
      "---  ------      --------------  -----  \n",
      " 0   調査月         83 non-null     object \n",
      " 1   国内総生産(支出側)  83 non-null     float64\n",
      " 2   時間軸（四半期）    83 non-null     object \n",
      " 3   value       83 non-null     object \n",
      "dtypes: float64(1), object(3)\n",
      "memory usage: 3.2+ KB\n"
     ]
    }
   ],
   "source": [
    "# nullを取っている値がないか確認\n",
    "Merge_Deta.info()"
   ]
  },
  {
   "cell_type": "code",
   "execution_count": 7,
   "id": "remarkable-engine",
   "metadata": {},
   "outputs": [
    {
     "name": "stdout",
     "output_type": "stream",
     "text": [
      "<class 'pandas.core.frame.DataFrame'>\n",
      "Int64Index: 83 entries, 0 to 82\n",
      "Data columns (total 5 columns):\n",
      " #   Column      Non-Null Count  Dtype  \n",
      "---  ------      --------------  -----  \n",
      " 0   調査月         83 non-null     object \n",
      " 1   国内総生産(支出側)  83 non-null     float64\n",
      " 2   時間軸（四半期）    83 non-null     object \n",
      " 3   value       83 non-null     object \n",
      " 4   実質賃金        83 non-null     float64\n",
      "dtypes: float64(2), object(3)\n",
      "memory usage: 3.9+ KB\n"
     ]
    }
   ],
   "source": [
    "# value の値がobjectになっているので修正する\n",
    "Merge_Deta['実質賃金'] = pd.to_numeric(Merge_Deta['value'], errors='coerce')\n",
    "Merge_Deta.info()"
   ]
  },
  {
   "cell_type": "code",
   "execution_count": 8,
   "id": "floral-upset",
   "metadata": {},
   "outputs": [
    {
     "data": {
      "text/html": [
       "<div>\n",
       "<style scoped>\n",
       "    .dataframe tbody tr th:only-of-type {\n",
       "        vertical-align: middle;\n",
       "    }\n",
       "\n",
       "    .dataframe tbody tr th {\n",
       "        vertical-align: top;\n",
       "    }\n",
       "\n",
       "    .dataframe thead th {\n",
       "        text-align: right;\n",
       "    }\n",
       "</style>\n",
       "<table border=\"1\" class=\"dataframe\">\n",
       "  <thead>\n",
       "    <tr style=\"text-align: right;\">\n",
       "      <th></th>\n",
       "      <th>国内総生産(支出側)</th>\n",
       "      <th>実質賃金</th>\n",
       "    </tr>\n",
       "  </thead>\n",
       "  <tbody>\n",
       "    <tr>\n",
       "      <th>count</th>\n",
       "      <td>83.000000</td>\n",
       "      <td>83.000000</td>\n",
       "    </tr>\n",
       "    <tr>\n",
       "      <th>mean</th>\n",
       "      <td>0.272289</td>\n",
       "      <td>-0.549398</td>\n",
       "    </tr>\n",
       "    <tr>\n",
       "      <th>std</th>\n",
       "      <td>2.279084</td>\n",
       "      <td>1.455634</td>\n",
       "    </tr>\n",
       "    <tr>\n",
       "      <th>min</th>\n",
       "      <td>-8.600000</td>\n",
       "      <td>-3.700000</td>\n",
       "    </tr>\n",
       "    <tr>\n",
       "      <th>25%</th>\n",
       "      <td>-1.000000</td>\n",
       "      <td>-1.600000</td>\n",
       "    </tr>\n",
       "    <tr>\n",
       "      <th>50%</th>\n",
       "      <td>0.700000</td>\n",
       "      <td>-0.600000</td>\n",
       "    </tr>\n",
       "    <tr>\n",
       "      <th>75%</th>\n",
       "      <td>1.800000</td>\n",
       "      <td>0.450000</td>\n",
       "    </tr>\n",
       "    <tr>\n",
       "      <th>max</th>\n",
       "      <td>3.800000</td>\n",
       "      <td>2.800000</td>\n",
       "    </tr>\n",
       "  </tbody>\n",
       "</table>\n",
       "</div>"
      ],
      "text/plain": [
       "       国内総生産(支出側)       実質賃金\n",
       "count   83.000000  83.000000\n",
       "mean     0.272289  -0.549398\n",
       "std      2.279084   1.455634\n",
       "min     -8.600000  -3.700000\n",
       "25%     -1.000000  -1.600000\n",
       "50%      0.700000  -0.600000\n",
       "75%      1.800000   0.450000\n",
       "max      3.800000   2.800000"
      ]
     },
     "execution_count": 8,
     "metadata": {},
     "output_type": "execute_result"
    }
   ],
   "source": [
    "# GDPおよび実質賃金の値の基礎統計量を確認する\n",
    "Merge_Deta.describe()"
   ]
  },
  {
   "cell_type": "code",
   "execution_count": 9,
   "id": "alpine-negative",
   "metadata": {},
   "outputs": [
    {
     "data": {
      "text/html": [
       "<div>\n",
       "<style scoped>\n",
       "    .dataframe tbody tr th:only-of-type {\n",
       "        vertical-align: middle;\n",
       "    }\n",
       "\n",
       "    .dataframe tbody tr th {\n",
       "        vertical-align: top;\n",
       "    }\n",
       "\n",
       "    .dataframe thead th {\n",
       "        text-align: right;\n",
       "    }\n",
       "</style>\n",
       "<table border=\"1\" class=\"dataframe\">\n",
       "  <thead>\n",
       "    <tr style=\"text-align: right;\">\n",
       "      <th></th>\n",
       "      <th>国内総生産(支出側)</th>\n",
       "      <th>実質賃金</th>\n",
       "    </tr>\n",
       "  </thead>\n",
       "  <tbody>\n",
       "    <tr>\n",
       "      <th>国内総生産(支出側)</th>\n",
       "      <td>1.000000</td>\n",
       "      <td>0.429783</td>\n",
       "    </tr>\n",
       "    <tr>\n",
       "      <th>実質賃金</th>\n",
       "      <td>0.429783</td>\n",
       "      <td>1.000000</td>\n",
       "    </tr>\n",
       "  </tbody>\n",
       "</table>\n",
       "</div>"
      ],
      "text/plain": [
       "            国内総生産(支出側)      実質賃金\n",
       "国内総生産(支出側)    1.000000  0.429783\n",
       "実質賃金          0.429783  1.000000"
      ]
     },
     "execution_count": 9,
     "metadata": {},
     "output_type": "execute_result"
    }
   ],
   "source": [
    "# GDPと実質賃金の相関係数を計算\n",
    "Merge_Deta.corr()"
   ]
  },
  {
   "cell_type": "code",
   "execution_count": 10,
   "id": "early-crest",
   "metadata": {},
   "outputs": [
    {
     "data": {
      "text/plain": [
       "LinearRegression()"
      ]
     },
     "execution_count": 10,
     "metadata": {},
     "output_type": "execute_result"
    }
   ],
   "source": [
    "# GDPと実質賃金で線形回帰を行う\n",
    "lr = linear_model.LinearRegression()\n",
    "X = Merge_Deta[['実質賃金']].values\n",
    "Y = Merge_Deta['国内総生産(支出側)'].values\n",
    "\n",
    "lr.fit(X,Y)"
   ]
  },
  {
   "cell_type": "code",
   "execution_count": 11,
   "id": "freelance-subcommittee",
   "metadata": {},
   "outputs": [
    {
     "data": {
      "image/png": "[encoded data removed]",
      "text/plain": [
       "<Figure size 432x288 with 1 Axes>"
      ]
     },
     "metadata": {
      "needs_background": "light"
     },
     "output_type": "display_data"
    }
   ],
   "source": [
    "plt.scatter(X,Y)\n",
    "plt.plot(X, lr.predict(X), color='red')\n",
    "plt.grid()\n",
    "\n",
    "plt.show()\n"
   ]
  },
  {
   "cell_type": "code",
   "execution_count": 12,
   "id": "returning-monday",
   "metadata": {},
   "outputs": [
    {
     "name": "stdout",
     "output_type": "stream",
     "text": [
      "[0.67290986]\n",
      "0.6419842119569741\n",
      "0.18471316521258452\n"
     ]
    }
   ],
   "source": [
    "print(lr.coef_)\n",
    "print(lr.intercept_)\n",
    "print(lr.score(X,Y))\n"
   ]
  },
  {
   "cell_type": "code",
   "execution_count": 13,
   "id": "needed-chosen",
   "metadata": {},
   "outputs": [
    {
     "name": "stdout",
     "output_type": "stream",
     "text": [
      "                            OLS Regression Results                            \n",
      "==============================================================================\n",
      "Dep. Variable:                      y   R-squared:                       0.185\n",
      "Model:                            OLS   Adj. R-squared:                  0.175\n",
      "Method:                 Least Squares   F-statistic:                     18.35\n",
      "Date:                Sun, 21 Mar 2021   Prob (F-statistic):           5.02e-05\n",
      "Time:                        18:08:54   Log-Likelihood:                -177.17\n",
      "No. Observations:                  83   AIC:                             358.3\n",
      "Df Residuals:                      81   BIC:                             363.2\n",
      "Df Model:                           1                                         \n",
      "Covariance Type:            nonrobust                                         \n",
      "==============================================================================\n",
      "                 coef    std err          t      P>|t|      [0.025      0.975]\n",
      "------------------------------------------------------------------------------\n",
      "const          0.6420      0.243      2.641      0.010       0.158       1.126\n",
      "x1             0.6729      0.157      4.284      0.000       0.360       0.985\n",
      "==============================================================================\n",
      "Omnibus:                        7.872   Durbin-Watson:                   0.538\n",
      "Prob(Omnibus):                  0.020   Jarque-Bera (JB):                9.072\n",
      "Skew:                          -0.472   Prob(JB):                       0.0107\n",
      "Kurtosis:                       4.317   Cond. No.                         1.79\n",
      "==============================================================================\n",
      "\n",
      "Notes:\n",
      "[1] Standard Errors assume that the covariance matrix of the errors is correctly specified.\n",
      "          Coef.  Std.Err.         t     P>|t|    [0.025    0.975]\n",
      "const  0.641984  0.243103  2.640794  0.009922  0.158286  1.125682\n",
      "x1     0.672910  0.157080  4.283869  0.000050  0.360370  0.985450\n"
     ]
    }
   ],
   "source": [
    "X2 = sm.add_constant(X)\n",
    "est = sm.OLS(Y, X2)\n",
    "est2 = est.fit()\n",
    "print(est2.summary())\n",
    "print(est2.summary2().tables[1])\n"
   ]
  }
 ],
 "metadata": {
  "kernelspec": {
   "display_name": "Python 3",
   "language": "python",
   "name": "python3"
  },
  "language_info": {
   "codemirror_mode": {
    "name": "ipython",
    "version": 3
   },
   "file_extension": ".py",
   "mimetype": "text/x-python",
   "name": "python",
   "nbconvert_exporter": "python",
   "pygments_lexer": "ipython3",
   "version": "3.8.1"
  }
 },
 "nbformat": 4,
 "nbformat_minor": 5
}
